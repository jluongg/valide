{
 "cells": [
  {
   "cell_type": "code",
   "execution_count": 11,
   "id": "6308bfd7-982c-4b0c-931e-6c4d5c81478b",
   "metadata": {},
   "outputs": [
    {
     "name": "stdout",
     "output_type": "stream",
     "text": [
      "200\n",
      "{'status': 'OK', 'deviceId': 'rYJlsWkvlWAg+xruT+of1DwYO/gh34DlYPN+57nn7P0=', 'preAuthSessionId': 'oOMd1EKypQWwVxTebdqy22tZ_W-7_9bKT315ZDxiW3A', 'flowType': 'USER_INPUT_CODE'}\n"
     ]
    }
   ],
   "source": [
    "import requests\n",
    "\n",
    "# Assuming your FastAPI app is running locally on port 8080\n",
    "base_url = \"http://localhost:8080\"\n",
    "\n",
    "# Example: Sign in to SuperTokens endpoint\n",
    "signin_url = \"http://localhost:8080/auth/signinup/code\"\n",
    "signin_data = {\n",
    "    \"email\": \"lujkfehgzluijkfezrhguijklzferghljkezrhgezrkhezrgl@fblfebvzlfezbflhfezBHJKVFEZSLHJKQSDGBLJHK.com\"\n",
    "}\n",
    "\n",
    "response = requests.post(signin_url, json=signin_data)\n",
    "\n",
    "print(response.status_code)\n",
    "print(response.json())\n"
   ]
  },
  {
   "cell_type": "code",
   "execution_count": 13,
   "id": "5c61d3e9-1088-4d21-9169-98c63ac3a65a",
   "metadata": {},
   "outputs": [
    {
     "name": "stdout",
     "output_type": "stream",
     "text": [
      "200\n",
      "{'status': 'OK', 'createdNewUser': True, 'user': {'id': 'fe4fddab-5a24-45fd-b718-f8ced27b225c', 'time_joined': 1717277970216, 'email': 'jimmy.luong.pro@gmail.com'}}\n"
     ]
    }
   ],
   "source": [
    "base_url = \"http://localhost:8080\"\n",
    "\n",
    "# Example: Sign in to SuperTokens endpoint\n",
    "consume_url = f\"{base_url}/auth/signinup/code/consume\"\n",
    "consume_data = {\n",
    "    'preAuthSessionId': 'oOMd1EKypQWwVxTebdqy22tZ_W-7_9bKT315ZDxiW3A',\n",
    "    'deviceId': 'rYJlsWkvlWAg+xruT+of1DwYO/gh34DlYPN+57nn7P0=',\n",
    "    \"userInputCode\" : \"149459\"\n",
    "}\n",
    "\n",
    "response = requests.post(consume_url, json=consume_data)\n",
    "\n",
    "print(response.status_code)\n",
    "print(response.json())"
   ]
  }
 ],
 "metadata": {
  "kernelspec": {
   "display_name": "Python 3 (ipykernel)",
   "language": "python",
   "name": "python3"
  },
  "language_info": {
   "codemirror_mode": {
    "name": "ipython",
    "version": 3
   },
   "file_extension": ".py",
   "mimetype": "text/x-python",
   "name": "python",
   "nbconvert_exporter": "python",
   "pygments_lexer": "ipython3",
   "version": "3.11.8"
  }
 },
 "nbformat": 4,
 "nbformat_minor": 5
}
